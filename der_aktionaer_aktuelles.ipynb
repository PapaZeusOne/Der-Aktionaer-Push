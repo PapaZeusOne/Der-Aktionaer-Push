{
 "cells": [
  {
   "cell_type": "code",
   "execution_count": 1,
   "metadata": {},
   "outputs": [
    {
     "name": "stdout",
     "output_type": "stream",
     "text": [
      "Python 3.8.3\n"
     ]
    }
   ],
   "source": [
    "#pip install requests\n",
    "#pip install DateTime\n",
    "#pip install beautifulsoup4\n",
    "#pip install python-telegram-bot --upgrade\n",
    "\n",
    "import requests\n",
    "import urllib.request\n",
    "import time\n",
    "from bs4 import BeautifulSoup\n",
    "from telegram.ext import Updater\n",
    "from datetime import datetime\n",
    "\n",
    "starttime = time.time()\n",
    "url = 'https://www.deraktionaer.de/'"
   ]
  },
  {
   "cell_type": "code",
   "execution_count": 6,
   "metadata": {},
   "outputs": [],
   "source": [
    "def get_article_information(url,\n",
    "                            tag_parent, tag_child,\n",
    "                            class_link,\n",
    "                            href):\n",
    "    response = requests.get(url)\n",
    "    soup = BeautifulSoup(response.text, 'html.parser')\n",
    "    if href == False:\n",
    "        article = soup.findAll(tag_parent, {'class': class_link})[:1]\n",
    "        for annoucement in article:\n",
    "            description = annoucement.find(tag_child)\n",
    "            return description.text\n",
    "    else:\n",
    "        article = soup.findAll(tag_parent, {'class': class_link})[:3]\n",
    "        for reference in article:\n",
    "            href = reference.find(tag_child).attrs['href']\n",
    "            return url + href\n",
    "    \n",
    "def send_push(text):\n",
    "    \n",
    "    # Change the strings: <TOKEN> and <CHAT_ID>, with your token and chat_id\n",
    "    bot_token_id = '<TOKEN>'\n",
    "    bot_chat_id = '<CHAT_ID'\n",
    "    \n",
    "    send_text = 'https://api.telegram.org/bot' + bot_token_id + '/sendMessage?chat_id=' + bot_chat_id + '&parse_mode=Markdown&text=' + text\n",
    "    \n",
    "    response = requests.get(send_text)\n",
    "\n",
    "    return response.json()\n",
    "\n",
    "def combine_crawled_info(description, timestamp, reference):\n",
    "    bot_message = f'{description}\\n\\n{reference}\\n\\n{timestamp}'\n",
    "    \n",
    "    return bot_message"
   ]
  },
  {
   "cell_type": "code",
   "execution_count": 16,
   "metadata": {},
   "outputs": [
    {
     "name": "stdout",
     "output_type": "stream",
     "text": [
      "Aktueller Zeitwert: Heute, 15:22 ‧ Thorsten Küfner\n",
      "Aktueller Zeitwert: Heute, 15:22 ‧ Thorsten Küfner\n",
      "Verglichener Zeitwert: Heute, 15:22 ‧ Thorsten Küfner\n",
      "Aktueller Zeitwert: Heute, 15:22 ‧ Thorsten Küfner\n",
      "Verglichener Zeitwert: Heute, 15:22 ‧ Thorsten Küfner\n",
      "Aktueller Zeitwert: Heute, 15:22 ‧ Thorsten Küfner\n",
      "Verglichener Zeitwert: Heute, 15:22 ‧ Thorsten Küfner\n",
      "Bot is going to slepp..zz\n"
     ]
    }
   ],
   "source": [
    "def crawl_intervall():\n",
    "    list_of_timestamp = []\n",
    "    \n",
    "    # The bot will check every 60 seconds if a new article was posted.\n",
    "    # In order to only call once the python script from google cloud,\n",
    "    # the script will stop at 21:30 and restarts at 6:00. \n",
    "    \n",
    "    # In order to start the script on linux machine automated, check for the \"crontab\"\n",
    "    while True:\n",
    "        now = datetime.now()\n",
    "        current_time = now.strftime(\"%H:%M:%S\")\n",
    "        # Set the time, when the bot should go to sleep\n",
    "        end = '21:30:00'\n",
    "\n",
    "        if current_time <= end:\n",
    "            description = get_article_information(url, 'div', 'h2',\n",
    "                                'article-list-text-container pure-u-1-1 pure-u-sm-16-24 pure-u-md-1-1 pure-u-lg-12-24', False)\n",
    "            timestamp = get_article_information(url, 'div', 'small',\n",
    "                                'article-list-text-container pure-u-1-1 pure-u-sm-16-24 pure-u-md-1-1 pure-u-lg-12-24', False)\n",
    "            reference = get_article_information(url, 'div', 'a',\n",
    "                                'article-list-image-container pure-u-1-1 pure-u-sm-8-24 pure-u-md-1-1 pure-u-lg-12-24', True)\n",
    "\n",
    "            list_of_timestamp.append(timestamp)\n",
    "            \n",
    "            if len(list_of_timestamp) == 2:\n",
    "                if list_of_timestamp[0] == list_of_timestamp[1]:\n",
    "                    list_of_timestamp.remove(list_of_timestamp[0])\n",
    "                else:\n",
    "                    list_of_timestamp.clear()\n",
    "                    list_of_timestamp.append(timestamp)\n",
    "\n",
    "                    send_push(combine_crawled_info(description, timestamp, reference))\n",
    "        else:\n",
    "            print('Bot is going to slepp... zz')\n",
    "            break\n",
    "\n",
    "        time.sleep(60.0 - ((time.time() - starttime) % 60.0))\n",
    "        \n",
    "def main():\n",
    "    crawl_intervall()\n",
    "    \n",
    "if __name__ == '__main__':\n",
    "    main()"
   ]
  }
 ],
 "metadata": {
  "kernelspec": {
   "display_name": "Python 3",
   "language": "python",
   "name": "python3"
  },
  "language_info": {
   "codemirror_mode": {
    "name": "ipython",
    "version": 3
   },
   "file_extension": ".py",
   "mimetype": "text/x-python",
   "name": "python",
   "nbconvert_exporter": "python",
   "pygments_lexer": "ipython3",
   "version": "3.8.3"
  }
 },
 "nbformat": 4,
 "nbformat_minor": 4
}
